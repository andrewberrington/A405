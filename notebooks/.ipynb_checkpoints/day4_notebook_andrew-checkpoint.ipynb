{
 "cells": [
  {
   "cell_type": "markdown",
   "metadata": {},
   "source": [
    "#  Entropy problem\n",
    "\n",
    "Consider two compartments, each with a volume of 1 $m^3$, separated by a rigid, perfectly insulating membrane.\n",
    "\n",
    "Initially T_A = 300 K and p_A = $10^5$ Pa, and T_B= 100 K and p_B = 10^3 Pa.  Suppose the membrane breaks.  Find the final temperature and pressure in the 2 m^3 compartment.   Does the total entropy change?  By how much?"
   ]
  },
  {
   "cell_type": "code",
   "execution_count": 27,
   "metadata": {
    "collapsed": false
   },
   "outputs": [
    {
     "name": "stdout",
     "output_type": "stream",
     "text": [
      "Entropy change is 134.10407562803053\n"
     ]
    }
   ],
   "source": [
    "# Initial Values\n",
    "tempA0 = 300 # K\n",
    "volA0 = 1 # m^3\n",
    "pressA0 = 10**5 # Pa\n",
    "\n",
    "tempB0 = 100 # K\n",
    "volB0 = 1 # m^3\n",
    "pressB0 = 10**3 # Pa\n",
    "\n",
    "# Constants\n",
    "voltotal = 2 # m^3\n",
    "Rd = 287 # J kg^-1 K^-1\n",
    "Cv = 717 # J kg^-1 K^-1\n",
    "Cp = 1004 # J kg^-1 K^-1\n",
    "\n",
    "# Calculations\n",
    "rhoA = pressA0/(Rd*tempA0)\n",
    "rhoB = pressB0/(Rd*tempB0)\n",
    "\n",
    "mass_A = rhoA*volA0 # kg\n",
    "mass_B = rhoB*volB0 # kg\n",
    "\n",
    "u_A = Cv*tempA0 # J/kg\n",
    "u_B = Cv*tempB0 # J/kg\n",
    "\n",
    "U_A = u_A*mass_A # J\n",
    "U_B = u_B*mass_B # J\n",
    "\n",
    "total_U = U_A + U_B\n",
    "\n",
    "total_u = total_U/(mass_A+mass_B)\n",
    "\n",
    "temp_final = total_u/(Cv)\n",
    "rho_final = (mass_A+mass_B)/voltotal\n",
    "press_final = rho_final*(Rd*temp_final) # Pa\n",
    "\n",
    "press_0 = 10**5 # Pa\n",
    "\n",
    "thetaA = tempA0*(press_0/pressA0)**(Rd/Cp)\n",
    "thetaB = tempB0*(press_0/pressB0)**(Rd/Cp)\n",
    "\n",
    "theta_after = temp_final*(press_0/press_final)**(Rd/Cp)\n",
    "\n",
    "import numpy as np\n",
    "\n",
    "ds_A = Cp*np.log(theta_after/thetaA)\n",
    "ds_B = Cp*np.log(theta_after/thetaB)\n",
    "\n",
    "ds_total = ds_A+ds_B # entropy change\n",
    "\n",
    "print('Entropy change is {}'.format(ds_total))\n",
    "\n",
    "# say we have mixratio_A = 1 and mixratio_B = 5, don't avg these...(Mass Box*Mass H20)/Mass box\n",
    "# find CvT and multiply it by mass for U\n",
    "\n",
    "# p = RdT\n",
    "\n",
    "# mass will be conserved\n",
    "\n",
    "# no heating, no work\n",
    " "
   ]
  },
  {
   "cell_type": "code",
   "execution_count": null,
   "metadata": {
    "collapsed": true
   },
   "outputs": [],
   "source": []
  }
 ],
 "metadata": {
  "kernelspec": {
   "display_name": "Python 3",
   "language": "python",
   "name": "python3"
  },
  "language_info": {
   "codemirror_mode": {
    "name": "ipython",
    "version": 3
   },
   "file_extension": ".py",
   "mimetype": "text/x-python",
   "name": "python",
   "nbconvert_exporter": "python",
   "pygments_lexer": "ipython3",
   "version": "3.5.1"
  }
 },
 "nbformat": 4,
 "nbformat_minor": 0
}
