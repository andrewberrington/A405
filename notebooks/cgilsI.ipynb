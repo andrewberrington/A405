{
 "cells": [
  {
   "cell_type": "markdown",
   "metadata": {},
   "source": [
    "## Working with a 3D large eddy simulation of shallow convection"
   ]
  },
  {
   "cell_type": "markdown",
   "metadata": {},
   "source": [
    "### The simulation\n",
    "\n",
    "* Objective: compare a single column of a GCM with large eddy simlations for three different cloud types (stratus, stratocumulus, trade cumulus)\n",
    "\n",
    "[GCM paper](http://ezproxy.library.ubc.ca/login?url=http://doi.wiley.com/10.1002/jame.v5.4)\n",
    "\n",
    "[LES paper](http://ezproxy.library.ubc.ca/login?url=http://doi.wiley.com/10.1002/jame.20025)\n",
    "\n",
    "* We started with the trade cumulus simulation, then perturbed it by raising the temperature to 300 K and 301 K.\n",
    "\n",
    "http://clouds.eos.ubc.ca/~phil/courses/atsc405/docs/cgils_ctl_s6_synthetic_albedo.mp4\n",
    "\n",
    "http://clouds.eos.ubc.ca/~phil/courses/atsc405/docs/cgils_sst_300K_synthetic_albedo.mp4\n",
    "\n",
    "http://clouds.eos.ubc.ca/~phil/courses/atsc405/docs/cgils_sst_301K_synthetic_albedo.mp4\n"
   ]
  },
  {
   "cell_type": "markdown",
   "metadata": {},
   "source": [
    "###  The dataset  -- netccdf\n",
    "\n",
    "[An example of reading a netCDF4 file ](http://schubert.atmos.colostate.edu/~cslocum/netcdf_example.html)\n"
   ]
  },
  {
   "cell_type": "code",
   "execution_count": 1,
   "metadata": {
    "collapsed": false
   },
   "outputs": [
    {
     "ename": "ImportError",
     "evalue": "No module named 'a405utils.ncdump'",
     "output_type": "error",
     "traceback": [
      "\u001b[0;31m---------------------------------------------------------------------------\u001b[0m",
      "\u001b[0;31mImportError\u001b[0m                               Traceback (most recent call last)",
      "\u001b[0;32m<ipython-input-1-907a537a0d1e>\u001b[0m in \u001b[0;36m<module>\u001b[0;34m()\u001b[0m\n\u001b[1;32m      1\u001b[0m \u001b[0;32mimport\u001b[0m \u001b[0mglob\u001b[0m\u001b[0;34m\u001b[0m\u001b[0m\n\u001b[1;32m      2\u001b[0m \u001b[0;32mfrom\u001b[0m \u001b[0mnetCDF4\u001b[0m \u001b[0;32mimport\u001b[0m \u001b[0mDataset\u001b[0m\u001b[0;34m\u001b[0m\u001b[0m\n\u001b[0;32m----> 3\u001b[0;31m \u001b[0;32mfrom\u001b[0m \u001b[0ma405utils\u001b[0m\u001b[0;34m.\u001b[0m\u001b[0mncdump\u001b[0m \u001b[0;32mimport\u001b[0m \u001b[0mncdump\u001b[0m\u001b[0;34m\u001b[0m\u001b[0m\n\u001b[0m\u001b[1;32m      4\u001b[0m \u001b[0;32mfrom\u001b[0m \u001b[0ma405utils\u001b[0m\u001b[0;34m.\u001b[0m\u001b[0mdownload\u001b[0m \u001b[0;32mimport\u001b[0m \u001b[0mdownload_file\u001b[0m\u001b[0;34m\u001b[0m\u001b[0m\n\u001b[1;32m      5\u001b[0m \u001b[0;34m\u001b[0m\u001b[0m\n",
      "\u001b[0;31mImportError\u001b[0m: No module named 'a405utils.ncdump'"
     ]
    }
   ],
   "source": [
    "import glob\n",
    "from netCDF4 import Dataset\n",
    "from a405utils.ncdump import ncdump\n",
    "from a405utils.download import download_file\n",
    "\n",
    "download = False\n",
    "if download:\n",
    "    #\n",
    "    #  satelite data for day 127 of 2014  Modis Aqua level 3 cloud data\n",
    "    #\n",
    "    url = 'http://clouds.eos.ubc.ca/~phil/Downloads/a405/ENT_CGILS_CTL_S6_3D_384x384x194_25m_1s_96_0000014160.nc'\n",
    "    local_file = download_file(url)\n",
    "    print('downloaded {}'.format(local_file))\n",
    "    \n",
    "the_file = glob.glob(\"*CTL*\")[0]\n",
    "with Dataset(the_file,'r') as ncin:\n",
    "    ncdump(ncin)"
   ]
  },
  {
   "cell_type": "markdown",
   "metadata": {},
   "source": [
    "### liquid water cross section at 1 km\n",
    "\n"
   ]
  },
  {
   "cell_type": "code",
   "execution_count": null,
   "metadata": {
    "collapsed": false
   },
   "outputs": [],
   "source": [
    "def get_var(the_file,varname):\n",
    "    with Dataset(the_file) as ncin:\n",
    "         out=ncin.variables[varname][...]\n",
    "         x = ncin.variables['x'][...]\n",
    "         y = ncin.variables['y'][...]\n",
    "         z = ncin.variables['z'][...]\n",
    "         out = out.squeeze()  #remove the time dimension, since we only have one timestep\n",
    "    return x,y,z,out\n",
    "x,y,z,qn = get_var(the_file, 'QN')"
   ]
  },
  {
   "cell_type": "code",
   "execution_count": null,
   "metadata": {
    "collapsed": false
   },
   "outputs": [],
   "source": [
    "#\n",
    "#  find the index for z = 1000 meters\n",
    "#\n",
    "\n",
    "level = np.searchsorted(z, 1000)"
   ]
  },
  {
   "cell_type": "code",
   "execution_count": null,
   "metadata": {
    "collapsed": false
   },
   "outputs": [],
   "source": [
    "#\n",
    "# get the cloud liquid water at 1000 m\n",
    "#\n",
    "horiz_cross_sec = qn[level,:,:]\n",
    "#\n",
    "# find the cross section cloud fraction\n",
    "#\n",
    "cloud_frac=np.sum(horiz_cross_sec > 0)/horiz_cross_sec.size\n",
    "print('cloud fraction: {:5.3f}'.format(cloud_frac))"
   ]
  },
  {
   "cell_type": "code",
   "execution_count": null,
   "metadata": {
    "collapsed": false
   },
   "outputs": [],
   "source": [
    "%matplotlib inline\n",
    "plt.style.use('ggplot')\n",
    "from matplotlib import pyplot as plt\n",
    "plt.close('all')\n",
    "fig,ax =plt.subplots(1,1,figsize=(10,10))\n",
    "whole_scene=ax.imshow(horiz_cross_sec)\n",
    "cax=plt.colorbar(whole_scene,ax=ax)\n",
    "cax.set_label('liquid water content (g/kg)')\n",
    "title = 'horizontal qn cross section at z=1000 m'\n",
    "ax.set_title(title)"
   ]
  },
  {
   "cell_type": "markdown",
   "metadata": {},
   "source": [
    "### zoom in on  the top left corner\n",
    "\n",
    "Switch from [imshow](http://matplotlib.org/api/pyplot_api.html#matplotlib.pyplot.imshow) to \n",
    "[pcolormesh](http://matplotlib.org/api/pyplot_api.html#matplotlib.pyplot.pcolormesh) so we can orient the axes along model x,y, and z coordinates.  Note that if y is north/south (north up), then imshow plots the image upside down."
   ]
  },
  {
   "cell_type": "code",
   "execution_count": null,
   "metadata": {
    "collapsed": false
   },
   "outputs": [],
   "source": [
    "#\n",
    "# it helps in checking your orientation to make the selection\n",
    "# have different numbers of rows and columns\n",
    "#\n",
    "end_col = 200\n",
    "end_row = 180\n",
    "fig,ax =plt.subplots(1,1,figsize=(10,10))\n",
    "image=ax.pcolormesh(x[:end_col],y[:end_row],horiz_cross_sec[:end_row,:end_col])\n",
    "ax.set(xlabel='distance east',ylabel='distance north')\n",
    "cax = plt.colorbar(image,ax=ax)\n",
    "cax.set_label('liquid water content (g/kg)')\n",
    "ax.set_title('zoomed horiz qn cross section at z=1000 m')"
   ]
  },
  {
   "cell_type": "markdown",
   "metadata": {
    "collapsed": true
   },
   "source": [
    "### Get a vertical cross section along y = 2km"
   ]
  },
  {
   "cell_type": "code",
   "execution_count": null,
   "metadata": {
    "collapsed": false
   },
   "outputs": [],
   "source": [
    "row_number = np.searchsorted(y,2000)  #(y index of 80)"
   ]
  },
  {
   "cell_type": "code",
   "execution_count": null,
   "metadata": {
    "collapsed": false
   },
   "outputs": [],
   "source": [
    "row_number"
   ]
  },
  {
   "cell_type": "code",
   "execution_count": null,
   "metadata": {
    "collapsed": false
   },
   "outputs": [],
   "source": [
    "vert_cross_sec = qn[:,row_number,:end_col]\n",
    "print(vert_cross_sec.shape)\n",
    "print(len(z),len(x[:end_col]))\n",
    "fig,ax = plt.subplots(1,1,figsize=(10,10))\n",
    "image=ax.pcolormesh(x[:end_col],z,vert_cross_sec[:,:end_col])\n",
    "cax = plt.colorbar(image,ax=ax)\n",
    "cax.set_label('liquid water mixing ratio qn (g/kg)')\n",
    "ax.set_title('vertical qn cross section along y=2 km')\n",
    "ax.set(xlabel='distance east (m)',ylabel='height (m)')"
   ]
  },
  {
   "cell_type": "markdown",
   "metadata": {},
   "source": [
    "### Find the vapor mixing ratio along this cross section"
   ]
  },
  {
   "cell_type": "code",
   "execution_count": null,
   "metadata": {
    "collapsed": false
   },
   "outputs": [],
   "source": [
    "plt.close('all')\n",
    "x,y,z,qv = get_var(the_file, 'QV')\n",
    "vert_cross_sec = qv[:,row_number,:end_col]\n",
    "fig,ax = plt.subplots(1,1,figsize=(10,10))\n",
    "image=ax.pcolormesh(x[:end_col],z,vert_cross_sec[:,:end_col])\n",
    "cax = plt.colorbar(image,ax=ax)\n",
    "cax.set_label('water vapor mixing ratio qv (g/kg)')\n",
    "ax.set_title('vertical qv cross section along y=2 km')"
   ]
  },
  {
   "cell_type": "markdown",
   "metadata": {},
   "source": [
    "### For Monday\n",
    "\n",
    "1\\.  Read Thompkins chapter 4 parameterization notes through section 4.7.1\n",
    "\n",
    "2\\.  Read [Zhu and Randall, 1996](http://kiwi.atmos.colostate.edu/pubs/XuandRandall-semiempirical-1996.pdf)\n",
    "\n",
    "3\\.  Hand in a notebook that adds cells to cgilsI.ipynb to:\n",
    "\n",
    "     * use pcolormesh to plot a vertical cross section of the relative humidity for along y=2 km, x= 0-5 km\n",
    "     \n",
    "     * use plot to plot a vertical profile of the horizontal mean RH in for this cross section as a function of height\n",
    "     \n",
    "     * use plot to plot a vertical profile of the horizontal standard deviation of RH as a function of height"
   ]
  },
  {
   "cell_type": "code",
   "execution_count": null,
   "metadata": {
    "collapsed": true
   },
   "outputs": [],
   "source": []
  }
 ],
 "metadata": {
  "kernelspec": {
   "display_name": "Python 3",
   "language": "python",
   "name": "python3"
  },
  "language_info": {
   "codemirror_mode": {
    "name": "ipython",
    "version": 3
   },
   "file_extension": ".py",
   "mimetype": "text/x-python",
   "name": "python",
   "nbconvert_exporter": "python",
   "pygments_lexer": "ipython3",
   "version": "3.5.1"
  }
 },
 "nbformat": 4,
 "nbformat_minor": 0
}
