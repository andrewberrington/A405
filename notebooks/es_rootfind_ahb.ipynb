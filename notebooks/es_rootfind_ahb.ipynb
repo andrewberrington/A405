{
 "cells": [
  {
   "cell_type": "code",
   "execution_count": 33,
   "metadata": {
    "collapsed": false
   },
   "outputs": [],
   "source": [
    "from scipy import optimize\n",
    "import numpy as np\n",
    "\n",
    "#temps = np.linspace(273.15,293.15,10) # for K\n",
    "temp1 = 273.15\n",
    "\n",
    "def calc_phi_l(temp):\n",
    "    '''Calculates phi_l\n",
    "    input: temp (K)\n",
    "    output: phi_l (list of floats)'''\n",
    "    \n",
    "    C_l = 4187 # J kg^-1 K^-1\n",
    "    Tp = 273.16 # K\n",
    "    \n",
    "    phi_l = C_l*np.log(temp/Tp)\n",
    "    return phi_l\n",
    "\n",
    "#phi_ls = calc_phi_l(temps)\n",
    "\n",
    "def calc_l_v(temp):\n",
    "    '''Calculates l_v\n",
    "    input: temp (K)\n",
    "    output: l_v (list of floats)'''\n",
    "    \n",
    "    C_l = 4187 # J kg^-1 K^-1\n",
    "    C_pv = 1870 # J kg^-1 K^-1\n",
    "    T_0 = 273.15 # K\n",
    "    l_0 = 2.501e6 # J kg^-1\n",
    "    \n",
    "    l_v = (C_pv-C_l)*(temp-T_0)+l_0\n",
    "    return l_v\n",
    "\n",
    "#l_vs = calc_l_v(temps)\n",
    "\n",
    "\n",
    "def calc_es(temp, l_v, phi_l):\n",
    "    '''Calculates saturation vapour pressure for the given values\n",
    "    input: temp (K), l_v (J/kg), phi_l (J kg^-1 K^-1)\n",
    "    output: e_s (Pa)'''\n",
    "    \n",
    "    left = 0 # Pa\n",
    "    right = 10000 # Pa\n",
    "    e_s = []\n",
    "    for i in range(len(l_v)):\n",
    "        e_s.append(optimize.zeros.brentq(rootfunc_es, left, right, args=(temp[i],l_v[i],phi_l[i])))\n",
    "    return e_s\n",
    "\n",
    "\n",
    "def rootfunc_es(es_guess, temp, l_v, phi_l):\n",
    "    '''Root function for e_sat\n",
    "    input: es_guess (Pa), temp (K), l_v, phi_l\n",
    "    output: difference between the guess and the value we want'''\n",
    "    \n",
    "    R_v = 461.5 # J kg^-1 K^-1\n",
    "    T_0 = 273.15 # K\n",
    "    C_pv = 1870 # J kg^-1 K^-1\n",
    "    l_v0 = 2.501e6 # J kg^-1\n",
    "    e_s0 = 6.11 # hPa\n",
    "    Tp = 273.16 # K\n",
    "    \n",
    "    phi0 = l_v0/Tp # J kg^-1 K^-1\n",
    "    \n",
    "    phiv_guess = (C_pv*np.log(temp/Tp)) - (R_v*np.log(es_guess/e_s0)) + phi0\n",
    "    temp_guess = l_v/(phiv_guess-phi_l)\n",
    "    return temp - temp_guess\n",
    "\n",
    "#e_sats = calc_es(temps, l_vs, phi_ls)\n",
    "#print(e_sats)  \n",
    "    "
   ]
  },
  {
   "cell_type": "code",
   "execution_count": 34,
   "metadata": {
    "collapsed": false
   },
   "outputs": [
    {
     "name": "stdout",
     "output_type": "stream",
     "text": [
      "e_s for a range of ten temps from 273.15 K to 293.15 K is [6.106686145125334, 7.165845749079085, 8.384483748123067, 9.782800266704129, 11.383033427538052, 13.20960476763113, 15.289269293913067, 17.65126986843538, 20.32749557936414, 23.35264372151103]\n"
     ]
    },
    {
     "name": "stderr",
     "output_type": "stream",
     "text": [
      "/Applications/anaconda/lib/python3.5/site-packages/ipykernel/__main__.py:63: RuntimeWarning: divide by zero encountered in log\n"
     ]
    }
   ],
   "source": [
    "temps = np.linspace(273.15,293.15,10) # for K\n",
    "\n",
    "l_vs = calc_l_v(temps)\n",
    "\n",
    "phi_ls = calc_phi_l(temps)\n",
    "\n",
    "e_sats = calc_es(temps,l_vs,phi_ls)\n",
    "print('e_s for a range of ten temps from 273.15 K to 293.15 K is {}'.format(e_sats))"
   ]
  },
  {
   "cell_type": "code",
   "execution_count": 35,
   "metadata": {
    "collapsed": false
   },
   "outputs": [
    {
     "name": "stdout",
     "output_type": "stream",
     "text": [
      "[6.1100000000000003, 7.1704538570303855, 8.393425869957472, 9.8004397822882581, 11.415402765410219, 13.264813781619788, 15.377984626342657, 17.78727397449958, 20.528334735006567, 23.640374994850539]\n"
     ]
    }
   ],
   "source": [
    "temps2 = np.linspace(273.15,293.15,10) # for K\n",
    "\n",
    "def thompkins_es(temps2):\n",
    "    '''Thompkins eq 2.15 calculation for e_s\n",
    "    Input: temps2 (K)\n",
    "    Output: e_s (list of float)'''\n",
    "    \n",
    "    e_s0 = 6.11 # hPa\n",
    "    l_v = 2.50e6 # J kg^-1\n",
    "    R_v = 461.5 # J kg^-1 K^-1\n",
    "    T_0 = 273.15 # K\n",
    "    e_s2 = []\n",
    "    \n",
    "    e_s2 = [e_s0*np.exp((l_v/R_v)*((1/T_0)-(1/temp))) for temp in temps2]\n",
    "    return e_s2\n",
    "\n",
    "e_s2 = thompkins_es(temps2)\n",
    "print(e_s2)"
   ]
  },
  {
   "cell_type": "code",
   "execution_count": null,
   "metadata": {
    "collapsed": true
   },
   "outputs": [],
   "source": [
    "\n"
   ]
  }
 ],
 "metadata": {
  "kernelspec": {
   "display_name": "Python 3",
   "language": "python",
   "name": "python3"
  },
  "language_info": {
   "codemirror_mode": {
    "name": "ipython",
    "version": 3
   },
   "file_extension": ".py",
   "mimetype": "text/x-python",
   "name": "python",
   "nbconvert_exporter": "python",
   "pygments_lexer": "ipython3",
   "version": "3.5.1"
  }
 },
 "nbformat": 4,
 "nbformat_minor": 0
}
